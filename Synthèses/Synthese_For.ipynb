{
 "cells": [
  {
   "cell_type": "markdown",
   "metadata": {},
   "source": [
    "# <div style=\"background-color: #201B76; color:#FFFFFF\"> **Synthèse : La boucle FOR**</div>  \n",
    "Une boucle \"pour\" ou \"for\" **sert à répéter** une action. Rappelons brièvement la principale différence entre une boucle \"pour\" et une boucle \"tant que\" (dont nous donnerons la synthaxe à un autre moment) :  \n",
    "* Avec une boucle \"pour\" **on connait à l'avance le nombre de répétitions** de l'action à éxecuter.\n",
    "* Avec une boucle \"tant que\", le nombre de répétitions est conditionné par l'évolution de l'état de certaines variables du programme.\n",
    "\n",
    "## <div style=\"background-color:#0073F7; color: #FFFFFF\"> 1. **Exemple : la table de multiplication du 8**</div>  \n",
    "```python\n",
    "# Pour k allant de 1 à 10 :  \n",
    "#    Afficher k*8  \n",
    "\n",
    "for k in range(1, 11) : \n",
    "    print (k, \" * 8 = \", k*8)\n",
    "```"
   ]
  },
  {
   "cell_type": "markdown",
   "metadata": {},
   "source": [
    "## <div style=\"background-color:#0073F7; color: #FFFFFF\"> 2. **Indentation en Python**</div>  \n",
    "> L'indentation après la ligne `for`... : est obligatoire (et automatique avec un éditeur adapté) : elle permet de délimiter la portée du `for`.  \n",
    "> De plus les deux points \":\" sont obligatoires.\n",
    "\n",
    "## <div style=\"background-color:#0073F7; color: #FFFFFF\"> 3. **Fonction range()**</div>  \n",
    "a et b désignant deux entiers, `range(a,b)` est l'ensemble (ordonné) des entiers a, a+1, a+2, ... , b-1.  \n",
    "C'est à dire l'ensemble des entiers k vérifiant a <= k < b  \n",
    "On fera attention à l'apparente dissymétrie entre les deux bornes\n",
    "\n",
    "Résultat du programme"
   ]
  },
  {
   "cell_type": "code",
   "execution_count": null,
   "metadata": {},
   "outputs": [],
   "source": [
    "for k in range(1, 11) : \n",
    "    print (k, \" * 8 = \", k*8)"
   ]
  },
  {
   "cell_type": "markdown",
   "metadata": {},
   "source": [
    "### <span style=\"color: #026a63\">a. Les boucles avec pas positif</span>  \n",
    "**Comment afficher les entiers pairs entre 2 et 20 ?**  \n",
    "Le plus simple est d'utiliser `range(a, b, p)` qui permet de parcourir les valeurs supérieurs ou égales à a et strictement inférieures à b et de p en p :  \n",
    "a, a+p, a+2p, a+3p, ...  "
   ]
  },
  {
   "cell_type": "code",
   "execution_count": null,
   "metadata": {},
   "outputs": [],
   "source": [
    "for k in range(2, 21, 2) : \n",
    "    print (k)"
   ]
  },
  {
   "cell_type": "markdown",
   "metadata": {},
   "source": [
    "#### <span style=\"color: #026a63\">b. Les boucles avec pas négatif</span>  \n",
    "**Comment afficher les entiers en ordre décroissant ?**  \n",
    "Le plus simple est d'utiliser `range(a, b, p)` avec une valeur négative du pas p :  "
   ]
  },
  {
   "cell_type": "code",
   "execution_count": null,
   "metadata": {},
   "outputs": [],
   "source": [
    "for i in range(15, 0, -1) : \n",
    "    print (i)"
   ]
  },
  {
   "cell_type": "markdown",
   "metadata": {},
   "source": [
    "## <div style=\"background-color:#0073F7; color: #FFFFFF\"> 4. Pour aller plus loin</div>  \n",
    "\n",
    "Sitographie :  \n",
    "[https://portail.lyc-la-martiniere-diderot.ac-lyon.fr/srv1/co/boucle_pas.html](https://portail.lyc-la-martiniere-diderot.ac-lyon.fr/srv1/co/boucle_pas.html)  \n",
    "Entrainement :  \n",
    "[http://portail.lyc-la-martiniere-diderot.ac-lyon.fr/srv1/html/cours_python_nsi/boucle_pour/boucle_pour_debuter.html](http://portail.lyc-la-martiniere-diderot.ac-lyon.fr/srv1/html/cours_python_nsi/boucle_pour/boucle_pour_debuter.html)"
   ]
  }
 ],
 "metadata": {
  "kernelspec": {
   "display_name": "Python 3.10.7 64-bit",
   "language": "python",
   "name": "python3"
  },
  "language_info": {
   "codemirror_mode": {
    "name": "ipython",
    "version": 3
   },
   "file_extension": ".py",
   "mimetype": "text/x-python",
   "name": "python",
   "nbconvert_exporter": "python",
   "pygments_lexer": "ipython3",
   "version": "3.10.7"
  },
  "orig_nbformat": 4,
  "vscode": {
   "interpreter": {
    "hash": "b629c3126b5df0b3c19ac5f524890cb3a3a2e86c1a2f2c4b1c29287aa73e65d0"
   }
  }
 },
 "nbformat": 4,
 "nbformat_minor": 2
}
