{
 "cells": [
  {
   "cell_type": "markdown",
   "metadata": {},
   "source": [
    "# <div style=\"background-color: #201B76; color:#FFFFFF\"> **TITRE**</div>\n",
    "# <div style=\"background-color:#0073F7; color: #FFFFFF\">**I. Grand 1**</div>\n",
    "### <span style=\"color: #026a63\">**I.1. Petit 1**</span>\n",
    "<span style=\"color: #FF4444\">texte coloré en rouge</span>  \n",
    "**<span style=\"color: #FF4444\">texte coloré en rouge et gras</span>**  \n",
    "```python\n",
    "print(\"toto\")\n",
    "```\n",
    "<mark style=\"color: #000000; background-color: #FFFF00;\">Marked text fluo</mark>  \n",
    "<div style=\"color: #000000; background-color: #FFFF00;\">ligne jaune fluo</div>  \n",
    "<div style=\"color: #000000; background-color: #00FFFF;\">ligne cyan</div>  \n",
    "\n",
    "$\\sqrt{2}$  \n",
    "\n",
    "![Cours](../Icones/cours.png)  \n",
    "![Aide](../Icones/aide.png)  \n",
    "![A Retenir](../Icones/aretenir.png)  \n",
    "![Attention](../Icones/attention.png)  \n",
    "![Bonne pratique](../Icones/checkvert.png)  \n",
    "![Mauvaise pratique](../Icones/checkrouge.png)  \n",
    "![Télécharger](../Icones/download.png)  \n",
    "![Exercice](../Icones/exercice.png)  \n",
    "![Mise en garde](../Icones/miseengarde.png)  \n",
    "![Apprendre](../Icones/parcoeur.png)  \n",
    "![Pour aller plus loin](../Icones/plusloin.png)  \n",
    "![Rappel](../Icones/rappel.png)  \n",
    "![A voir sur le web](../Icones/web.png)  "
   ]
  },
  {
   "cell_type": "code",
   "execution_count": 1,
   "metadata": {},
   "outputs": [],
   "source": [
    "def lancerDeDes(nbDes,nbFaces):\n",
    "    listeDesDes = []    #la liste des dés, pour l'instant  vide\n",
    "    for i in range(nbDes):\n",
    "        d = lancerUnDe(nbFaces) #on lance un dé\n",
    "        listeDesDes.append(d)     #on ajoute ce dé à la liste\n",
    "    return listeDesDes"
   ]
  }
 ],
 "metadata": {
  "kernelspec": {
   "display_name": "Python 3.10.7 64-bit",
   "language": "python",
   "name": "python3"
  },
  "language_info": {
   "codemirror_mode": {
    "name": "ipython",
    "version": 3
   },
   "file_extension": ".py",
   "mimetype": "text/x-python",
   "name": "python",
   "nbconvert_exporter": "python",
   "pygments_lexer": "ipython3",
   "version": "3.10.7"
  },
  "orig_nbformat": 4,
  "vscode": {
   "interpreter": {
    "hash": "b629c3126b5df0b3c19ac5f524890cb3a3a2e86c1a2f2c4b1c29287aa73e65d0"
   }
  }
 },
 "nbformat": 4,
 "nbformat_minor": 2
}
