{
 "cells": [
  {
   "cell_type": "markdown",
   "metadata": {},
   "source": [
    "# <div style=\"background-color: #201B76; color:#FFFFFF\"> **Langage et programmation**</div>\n",
    "# <div style=\"background-color: #201B76; color:#FFFFFF\"> **Chapitre 1 : Introduction à Python**</div>\n",
    "---\n",
    "**Notions abordées**\n",
    "* mode interactif et mode programme de Python\n",
    "* expressions arithmétiques\n",
    "* messages d'erreur\n",
    "* manipuler les variables\n",
    "* séquence d'instructions\n",
    "* lire et écrire des chaînes de caractères\n",
    "* utilisation de la bibliothèque Turtle\n",
    "---\n",
    "\n",
    "# <div style=\"background-color:#0073F7; color: #FFFFFF\">**I. Mise en pratique : le jeu du \"devine le nombre\"**</div>\n",
    "Ce jeu est très simple : L'ordinateur tire un nombre au hasard entre 1 et 30 et vous devez essayer de le trouver. Après chaque tentative, l'ordinateur vous dira si le nombre que vous avez proposé est trop grand, trop petit, ou si vous avez trouvé le bon nombre. Le but est de trouver le nombre avec un nombre d'essais le plus petit possible.  \n",
    "![Exemple de rendu](../Images/01-devine.png)  \n",
    "Remarque : les nombres dans l'exemple ci-contre (15,5,10,12,13) ont été entrés au clavier par le joueur.  \n",
    "\n",
    "Le code du programme vous est donné ci-dessous :\n",
    "\n",
    "```python\n",
    "# Devine mon nombre\n",
    "from random import randint\n",
    "\n",
    "nbr_essais = 0\n",
    "borne_sup = 30\n",
    "mon_nombre = randint(1,borne_sup) # nombre choisi par l'ordinateur\n",
    "ton_nombre = 0 # nombre proposé par le joueur\n",
    "\n",
    "\n",
    "print(\"J'ai choisi un nombre entre 1 et 30\")\n",
    "\n",
    "while ton_nombre != mon_nombre :\n",
    "    \n",
    "    nbr_essais += 1\n",
    "    print(\"Essai no \",nbr_essais)\n",
    "    \n",
    "    ton_nombre = int(input(\"Votre proposition : \"))\n",
    "    print(\"Votre proposition : \",ton_nombre)\n",
    "        \n",
    "    if ton_nombre < mon_nombre:\n",
    "        print(\"Trop petit\")\n",
    "    elif ton_nombre > mon_nombre:\n",
    "        print(\"Trop grand\")\n",
    "    else:\n",
    "        print(\"Bravo ! Vous avez trouvé\",mon_nombre,\"en\",nbr_essais,\"essai(s)\")\n",
    "```\n",
    "![Exercice](../Icones/exercice.png)  \n",
    "**1. Lancez le jeu et faites quelques parties. Essayez d’obtenir le meilleur score possible.**  \n",
    "\n",
    "**2. Au lieu que le programme choisisse aléatoirement un nombre entre 1 et 30, nous aimerions qu’il choisisse un nombre entre 1 et 100.**  \n",
    "**Modifiez le code pour que cela soit le cas et lancez le programme. Testez votre programme.**\n",
    "\n",
    "**3. Nous avons dans ce programme 4 variables qu'il faut initialiser. Cela signifie qu'il faut leur donner une valeur de départ. Si on ne le fait pas, l'interpréteur Python va envoyer le message d'erreur. Supprimez l’initialisation d’une des variables ci-dessus au choix (supprimer la ligne entière) puis lancez le programme. Que constatez vous ? Notez ce qui apparaît dans la console:**  \n",
    "\n",
    "![A Retenir](../Icones/aretenir.png)  \n",
    ">C'est au moment où l'on initialise une variable que l'interpréteur Python la crée. On peut voir une variable comme une boîte qui va contenir une valeur : le nom de la variable correspond au nom de la boîte et la valeur de la variable correspond à une donnée que l’on glisse dans la boîte.\n",
    "\n",
    "**4. Ré-écrivez la ligne que vous venez de supprimer.**  \n",
    "\n",
    "**5. A votre avis, a quoi sert la ligne 6 :**\n",
    "```python\n",
    "mon_nombre = randint(1,borne_sup) # nombre choisi par l'ordinateur\n",
    "```\n",
    "\n",
    "**6. Modifiez cette ligne afin que le nombre choisi par l’ordinateur soit compris entre 10 et 100. Lancez et testez votre programme.**  \n",
    "\n",
    "**7. Bien que le nombre choisi par l’ordinateur soit compris entre 10 et 100 grâce à votre modification précédente, le message qu’affiche l’interpréteur dans la console dit le contraire (J'ai choisi un nombre entre 1 et 30). Faites en sorte que ce message affiche les bonnes valeurs.**\n",
    "\n",
    "**8. D'après vous a quoi sert la fonction print :**  \n",
    "\n",
    "**9. Il serait plus pratique de créer une variable borne_inf qui correspondrait à la borne inférieure encadrant le nombre de l’ordinateur.**  \n",
    "**Comme la variable borne_sup ajoutez la variable borne_inf et initialisez la à 10. N’oubliez pas de modifier la fonction random() ainsi que la fonction print() (inspirez vous de la ligne 25 ).**  \n",
    "**Lancez votre programme et testez le.**  \n",
    "\n",
    "**10. Que signifie le mot-clé while ?**  \n",
    "\n",
    "**11. A quoi correspond le symbole != ?**  \n",
    "\n",
    "**12. Résumez en une phrase les conditions selon lesquelles le programme continue.**  \n",
    "\n",
    "**13. Quelle ligne permet  au joueur d’entrer une proposition ?**  \n",
    "\n",
    "**14. Que signifie les mot-clé if, elif et else ?**\n"
   ]
  },
  {
   "cell_type": "code",
   "execution_count": null,
   "metadata": {},
   "outputs": [],
   "source": [
    "# Devine mon nombre\n",
    "from random import randint\n",
    "\n",
    "nbr_essais = 0\n",
    "borne_sup = 30\n",
    "mon_nombre = randint(1,borne_sup) # nombre choisi par l'ordinateur\n",
    "ton_nombre = 0 # nombre proposé par le joueur\n",
    "\n",
    "\n",
    "print(\"J'ai choisi un nombre entre 1 et 30\")\n",
    "\n",
    "while ton_nombre != mon_nombre :\n",
    "    \n",
    "    nbr_essais += 1\n",
    "    print(\"Essai no \",nbr_essais)\n",
    "    \n",
    "    ton_nombre = int(input(\"Votre proposition : \"))\n",
    "    print(\"Votre proposition : \",ton_nombre)\n",
    "        \n",
    "    if ton_nombre < mon_nombre:\n",
    "        print(\"Trop petit\")\n",
    "    elif ton_nombre > mon_nombre:\n",
    "        print(\"Trop grand\")\n",
    "    else:\n",
    "        print(\"Bravo ! Vous avez trouvé\",mon_nombre,\"en\",nbr_essais,\"essai(s)\")"
   ]
  },
  {
   "cell_type": "markdown",
   "metadata": {},
   "source": [
    "---\n",
    "# <div style=\"background-color:#0073F7; color: #FFFFFF\">**II. Premiers pas en Python : mode interactif et variables**</div>\n",
    "\n",
    "Le langage de programmation Python permet d'interagir avec la machine à l'aide d'un programme appelé interprète Python.\n",
    "* Le mode interactif consiste à dialoguer avec la machine uniquement grâce à cet interprète. \n",
    "* Quant au deuxième mode, il consiste à écrire un programme dans un fichier puis le faire exécuter par l'interprète.\n",
    "\n",
    "### <span style=\"color: #026a63\">**II.1. Mode interactif**</span>\n",
    "Dans un premier temps le **mode interactif** de l'interprète Python peut être comparé à une **calculatrice.** L'invite de commande de Python est reconnaissable grâce au symbole '' >>> '' qui indique l'attente d'instructions.\n",
    "      \n",
    "*Exemples :*  \n",
    "Saisir dans une console python chacune des instructions suivantes puis valider avec la touche entrée ; relever l'affichage de l'interprète au-dessous ; qu'observe-t-on ?  \n",
    "a)   >>> 1+2  "
   ]
  },
  {
   "cell_type": "code",
   "execution_count": null,
   "metadata": {},
   "outputs": [],
   "source": [
    "1+2"
   ]
  },
  {
   "cell_type": "markdown",
   "metadata": {},
   "source": [
    "b)   >>> 2 + 5 * ( 10 - 1 / 2 )"
   ]
  },
  {
   "cell_type": "code",
   "execution_count": null,
   "metadata": {},
   "outputs": [],
   "source": [
    "2 + 5 * ( 10 - 1 / 2 )"
   ]
  },
  {
   "cell_type": "markdown",
   "metadata": {},
   "source": [
    "c)   >>> 1 + 2 * 3"
   ]
  },
  {
   "cell_type": "code",
   "execution_count": null,
   "metadata": {},
   "outputs": [],
   "source": [
    "1 + 2 * 3"
   ]
  },
  {
   "cell_type": "markdown",
   "metadata": {},
   "source": [
    "![A Retenir](../Icones/aretenir.png)  \n",
    "> ● les quatre opérations mathématiques sont possibles : + pour l'addition, - pour la soustraction, * pour la multiplication et / pour la division ;  \n",
    "> ● la priorité des opérations est habituelle et les parenthèses peuvent être utilisées ;  \n",
    "> ● l'utilisation d'espaces pour améliorer la lisibilité est purement décoratif , ils n'entraînent aucune modification de calculs de l'expression (les priorités restent inchangées).  \n",
    "\n",
    "d) >>> 1 + * 2   "
   ]
  },
  {
   "cell_type": "code",
   "execution_count": null,
   "metadata": {},
   "outputs": [],
   "source": [
    "1 + * 2"
   ]
  },
  {
   "cell_type": "markdown",
   "metadata": {},
   "source": [
    "e) >>> 2/(3-3) "
   ]
  },
  {
   "cell_type": "code",
   "execution_count": null,
   "metadata": {},
   "outputs": [],
   "source": [
    "2/(3-3)"
   ]
  },
  {
   "cell_type": "markdown",
   "metadata": {},
   "source": [
    "Remarques :\n",
    "* ''SyntaxError : invalid syntax'' signale une erreur de syntaxe, c'est à dire une instruction mal formulée ; le symbole ^ indique l'endroit exact de l'erreur de syntaxe, dans notre exemple il s'agit du caractère * ;\n",
    "* dans le cas e) l'expression est correcte du point de vue de l'écriture mais le résultat n'a pas de sens ; toute tentative de division par zéro déclenche un message spécifique.  \n",
    "\n",
    "f) >>> 1,2 + 3,4  "
   ]
  },
  {
   "cell_type": "code",
   "execution_count": null,
   "metadata": {},
   "outputs": [],
   "source": [
    "1,2 + 3,4"
   ]
  },
  {
   "cell_type": "markdown",
   "metadata": {},
   "source": [
    "g) >>> 1,2 * 3"
   ]
  },
  {
   "cell_type": "code",
   "execution_count": null,
   "metadata": {},
   "outputs": [],
   "source": [
    "1,2 * 3"
   ]
  },
  {
   "cell_type": "markdown",
   "metadata": {},
   "source": [
    "![Attention](../Icones/attention.png)  \n",
    "> les nombres décimaux s'écrivent à l'anglo-saxonne avec un **point**, et non une virgule qui possède un autre sens pour Python (elle sert à séparer deux valeurs) ;  \n",
    "> les calculs en écrivant les nombres avec une virgule aboutissent à des comportements et des réponses tout à fait inattendus.\n",
    "\n",
    "### <span style=\"color: #026a63\">**II.2. Opérations élementaires**</span>\n",
    "Dans la console ci-dessous, entrez les opérations suivantes une à une, et éxecutez la cellule après chacune d’elles. Notez le résultat ainsi qu’une remarque particulière. \n"
   ]
  },
  {
   "cell_type": "code",
   "execution_count": null,
   "metadata": {},
   "outputs": [],
   "source": []
  },
  {
   "cell_type": "markdown",
   "metadata": {},
   "source": [
    "\n",
    "| Opération | Résultat | Remarque |\n",
    "| --- | --- | --- |\n",
    "|1+1| | |\n",
    "|2 * 3| | |\t\n",
    "|12 / 3| | |\n",
    "|3.14 + 2.72| | |\n",
    "|3.1 + 1.9| | |\n",
    "|(2 * 3) - 8| | |\n",
    "|2 * 3 - 8| | |\n",
    "|2 * (3 - 8)\t\t\n",
    "|’Bon’ + ’jour’| | |\n",
    "|’5.0’ + ’1.2’| | |\n",
    "|2 ** 10| | |\n",
    "|3 ** 2| | |\n",
    "|1 + 3 ** 2| | |\n",
    "|7/3| | |\n",
    "|7 // 3| | |\n",
    "|7 % 3| | |\n",
    "|11%5| | |\n",
    "|13%6| | |\n",
    "|3.5 // 1| | |\n",
    "|\"Hello \"+\" world \"| | |\n"
   ]
  },
  {
   "cell_type": "markdown",
   "metadata": {},
   "source": [
    "\n",
    "### <span style=\"color: #026a63\">**II.3. Les nombres**</span>\n",
    "Ils sont classés en deux catégories :  \n",
    "• soit des **entiers relatifs**, simplement appelés **entiers** ;  \n",
    "• soit des **nombres décimaux** appelés **flottants**.  \n",
    "\n",
    "L'écriture des entiers est limitée uniquement par la taille de la mémoire disponible pour les stocker.  \n",
    "En revanche, les **nombres flottants** ont une capacité limitée  et ne peuvent représenter qu'**une partie des nombres décimaux** (des nombres décimaux trop grands ou trop petits ne sont pas représentables).  \n",
    "Pour finir, les **nombres irrationnels** comme π ou $\\sqrt{2}$ qui ne sont pas des nombres décimaux, ne peuvent être représentés que de **manière approximative** en Python.  \n",
    "\n",
    "![A Retenir](../Icones/aretenir.png)  \n",
    "> * on veillera donc à utiliser les opérations // et % **uniquement sur des entiers positifs** ;  \n",
    ">   * l'opération // sur **des entiers positifs** correspond à la division euclidienne ;  \n",
    ">   * l'opération % sur des **entiers positifs** correspond au reste de la division euclidienne ;\n",
    "> * l'opération ** correspond  à l'exponentiation de deux nombres;\n",
    "\n",
    "### <span style=\"color: #026a63\">**II.4. Les variables**</span>\n",
    "\n",
    "![A Retenir](../Icones/aretenir.png) \n",
    "une variable est l'association entre **un nom** (un identifiant) et **une valeur** (d'un certain type entier, flottant, chaîne de caractère …)  \n",
    "Après exécution des instructions, les résultats calculés peuvent être mémorisés par l'interprète, afin d'être **réutilisés plus tard** dans d'autres instructions.\n",
    "\n",
    "**Exemples :** Toutes les instructions suivantes sont exécutées à la suite sans relancer l'interprète Python."
   ]
  },
  {
   "cell_type": "code",
   "execution_count": 20,
   "metadata": {},
   "outputs": [],
   "source": [
    "a=1+1"
   ]
  },
  {
   "cell_type": "markdown",
   "metadata": {},
   "source": [
    "\"a=\"    → donne un nom à la valeur à mémoriser : aucun résultat du calcul affiché\n",
    "\"=\"     → **affectation**... à gauche on trouve le **nom de la variable** et à droite l'**expression ou la valeur**"
   ]
  },
  {
   "cell_type": "code",
   "execution_count": null,
   "metadata": {},
   "outputs": [],
   "source": [
    "a"
   ]
  },
  {
   "cell_type": "markdown",
   "metadata": {},
   "source": [
    "\"a\"     → donne accès à la valeur mémorisée précédemment   \n",
    "La variable peut être réutilisée dans la suite des calculs.\n"
   ]
  },
  {
   "cell_type": "code",
   "execution_count": null,
   "metadata": {},
   "outputs": [],
   "source": [
    "# La variable a peut être réutilisée dans la suite des calculs\n",
    "a=3*a*(1+a)\n",
    "a"
   ]
  },
  {
   "cell_type": "code",
   "execution_count": null,
   "metadata": {},
   "outputs": [],
   "source": [
    "a=4\n",
    "e=a\n",
    "a=7\n",
    "e"
   ]
  },
  {
   "cell_type": "markdown",
   "metadata": {},
   "source": [
    "\"e\" et \"a\" ne sont pas deux noms de la même variable mais deux variables différentes. La variable \"e\" reçoit la valeur de \"a\".\n",
    "Les deux variables sont indépendantes, la nouvelle affectation de \"a\" n'a aucun effet sur \"e\"\n"
   ]
  },
  {
   "cell_type": "code",
   "execution_count": null,
   "metadata": {},
   "outputs": [],
   "source": [
    "a=3\n",
    "cube = a*a*a\n",
    "autre_cube = a**3\n",
    "print(\"cube=\",cube,\", autre_cube=\", autrecube)"
   ]
  },
  {
   "cell_type": "markdown",
   "metadata": {},
   "source": [
    "![A Retenir](../Icones/aretenir.png)  \n",
    "* Un nom de variable peut être formé de plusieurs caractères minuscules (lettres, chiffres et soulignés).  \n",
    "* Par convention on n'utilise ni les accents, ni les majuscules.\n",
    "* Un nom de variable ne commence pas par un chiffre. (exemples : 2emevariable, 5a, ...)\n",
    "* Certains noms sont interdits (mots réservés du langage, exemples : def, if, then, print, ...  )\n"
   ]
  },
  {
   "cell_type": "code",
   "execution_count": null,
   "metadata": {},
   "outputs": [],
   "source": [
    "b+1"
   ]
  },
  {
   "cell_type": "markdown",
   "metadata": {},
   "source": [
    "Cette instruction mènera à une erreur du type suivant : \"NameError : name 'b' is not defined\"\n",
    "En effet, il est **impossible d'utiliser une variable qui na pas été encore définie.**\n",
    "\n",
    "![Attention](../Icones/attention.png)  \n",
    "* Bien distinguer la notion de **variable en informatique** de celle de **variable en mathématiques** :  \n",
    "en effet, en informatique une variable peut prendre différentes valeurs, elle peut varier au cours de l'exécution des instructions alors qu'en mathématiques la variable désigne une unique valeur (qui peut être indéterminée).  \n",
    "* Bien **distinguer** le sens du symbole ''='' en **informatique et en mathématiques** :\n",
    "\n",
    "||Mathématiques|Informatique|\n",
    "| --- | --- | --- |\n",
    "| Différentes interprétations   possibles de la   suite de symboles :   a=a+1 | \"=\" égalité, on reconnait donc une équation sans solution | \"=\" affectation, instruction informatique qui augmente la valeur de a d'une unité |\n",
    "\n",
    "Remarque : on peut aussi écrire \"a+=1\" à la place de \"a=a+1\"\n",
    "\n",
    "![Exercice](../Icones/exercice.png)  \n",
    "Quelle est la valeur affichée par l'interprète après chacune des séquences d'instructions ci-dessous ?"
   ]
  },
  {
   "cell_type": "code",
   "execution_count": null,
   "metadata": {},
   "outputs": [],
   "source": [
    "a=3\n",
    "a=4\n",
    "a=a+2\n",
    "a"
   ]
  },
  {
   "cell_type": "code",
   "execution_count": null,
   "metadata": {},
   "outputs": [],
   "source": [
    "a=2\n",
    "b=a*a\n",
    "b=a*b\n",
    "b=b*b\n",
    "b"
   ]
  },
  {
   "cell_type": "markdown",
   "metadata": {},
   "source": [
    "---\n",
    "# <div style=\"background-color:#0073F7; color: #FFFFFF\">**III. Python et le mode programme**</div>\n",
    "\n",
    "Lorsqu'on écrit une suite d'instructions dans un fichier, on rédige un programme ou encore un code source. Faire interpréter ce code par l'interprète Python est possible en mode programme. On distingue ainsi le rôle du programmeur du rôle de l'utilisateur d'un programme.\n",
    "\n",
    "L'affichage des résultats des calculs n'apparaît plus en mode programme. \n",
    "On utilise l'instruction \"print ( )\" pour afficher un nombre ou une chaîne de caractères :\n"
   ]
  },
  {
   "cell_type": "code",
   "execution_count": null,
   "metadata": {},
   "outputs": [],
   "source": [
    "print(3)\n",
    "print(1+3)\n",
    "print(\"1+3\")    # ici \"1+3\" est .... {a compléter}\n",
    "print(\"salut\")"
   ]
  },
  {
   "cell_type": "markdown",
   "metadata": {},
   "source": [
    "Pour interagir avec l'utilisateur, par exemple la saisie de la valeur d'une variable on utilise deux instructions **\"input\"** pour récupérer les caractères saisis par l'utilisateur puis **\"int\"** pour convertir cette chaîne de caractère en un nombre entier.\n"
   ]
  },
  {
   "cell_type": "code",
   "execution_count": null,
   "metadata": {},
   "outputs": [],
   "source": [
    "s=input()                                   # commenter ici\n",
    "a=int(s)                                    # commenter ici\n",
    "print (\"le nombre suivant est : \",a+1)      # commenter ici"
   ]
  },
  {
   "cell_type": "code",
   "execution_count": null,
   "metadata": {},
   "outputs": [],
   "source": [
    "# on peut composer les instructions\n",
    "s=int(input())\n",
    "print (\"le nombre suivant est : \",a+1)"
   ]
  },
  {
   "cell_type": "markdown",
   "metadata": {},
   "source": [
    "Le mode programme est le plus fréquent mais pour tester une nouvelle instruction ou lever un doute, on pourra penser au mode interactif. Les deux modes peuvent être utilisés simultanément.\n",
    "\n",
    "![Exercice](../Icones/exercice.png)  \n",
    "1) Que se passe-t-il si on exécute le programme ci-dessous ?...  Le rectifier si nécessaire"
   ]
  },
  {
   "cell_type": "code",
   "execution_count": null,
   "metadata": {},
   "outputs": [],
   "source": [
    "a=input(\"saisir un nombre :\")\n",
    "print(\"le nombre suivant est\", a+1)"
   ]
  },
  {
   "cell_type": "markdown",
   "metadata": {},
   "source": [
    "2. On met deux entiers dans deux boîtes a et b, par exemple 55 et 89.  \n",
    "On remplace le contenu de a par la somme de celui de a et de b.  \n",
    "Puis on remplace le contenu de b par le contenu de a moins le contenu de b.  \n",
    "Enfin on remplace le contenu de a par son contenu moins celui de b. \n",
    "\n",
    "2.a. Que contiennent a et b à la fin de ces opérations ?  \n",
    "2.b. Programmer cet algorythme en Python"
   ]
  },
  {
   "cell_type": "code",
   "execution_count": null,
   "metadata": {},
   "outputs": [],
   "source": []
  },
  {
   "cell_type": "markdown",
   "metadata": {},
   "source": [
    "3. Ecrire un programme qui demande à l'utilisateur les longueurs (entières) des deux côtés d'un rectangle et affiche son aire."
   ]
  },
  {
   "cell_type": "code",
   "execution_count": null,
   "metadata": {},
   "outputs": [],
   "source": []
  },
  {
   "cell_type": "markdown",
   "metadata": {},
   "source": [
    "4.  On souhaite écrire un programme qui demande à l'utilisateur un nombre d’œufs et affiche le nombre de boîtes de six œufs nécessaires à leur transport. \n",
    "On considère le programme ci-dessous, qui utilise une division euclidienne. Tester le programme ci-dessous sur différentes entrées."
   ]
  },
  {
   "cell_type": "code",
   "execution_count": null,
   "metadata": {},
   "outputs": [],
   "source": [
    "n = int(input(\"nombre d'oeufs : \"))\n",
    "print(n//6)"
   ]
  },
  {
   "cell_type": "markdown",
   "metadata": {},
   "source": [
    "4.a. Sur quelles valeurs de n ce programme est-il correct ?  \n",
    "4.b. Pourquoi n'est-il pas correct de remplacer n//6 par n//6+1 ?  \n",
    "4.c. Proposer une solution correcte"
   ]
  },
  {
   "cell_type": "markdown",
   "metadata": {},
   "source": [
    "---\n",
    "# <div style=\"background-color:#0073F7; color: #FFFFFF\">**IV. La bibliothèque turtle**</div>\n",
    "\n",
    "\n",
    "Python propose un certain nombre d'instructions primitives comme print et input.  \n",
    "Pour des instructions plus spécialisées on utilisera des bibliothèques.  \n",
    "La bibliothèque **turtle** par exemple permet de reproduire les fonctionnalités de base du langage de programmation éducatif Logo. Les instructions de cette bibliothèque font se déplacer une tortue munie d'un crayon à la surface d'une feuille virtuelle. On observe alors l'exécution du programme et le tracé qu'elle laisse derrière elle.  \n",
    "L'utilisation des instructions spécifiques de la bibliothèque demande une déclaration préalable :  \n",
    "**import turtle**. Cette ligne n'apparaît qu'une seule fois dans le programme.  \n",
    "\n",
    "**Instructions permettant les déplacements et l'orientation de la tortue**  \n",
    "**dans le plan cartésien à deux dimensions (repère standard des mathématiques ) :**  \n",
    "\n",
    "| Instruction | Description |\n",
    "| --- | --- |\n",
    "| goto(x,y) | Aller au point de coordonnées (x,y) |\n",
    "| forward(d) | Avancer de la distance d ( en pixels ) | \n",
    "| backward(d) | Reculer de la distance d ( en pixels ) |\n",
    "| left(a) | pivoter à gauche de l'angle a (en degré ) |\n",
    "| right (a) | pivoter à droite de l'angle a (en degré) |\n",
    "| circle (r,a) | tracer un arc de cercle d'angle a et de rayon r |\n",
    "| dot(r) | tracer un point de rayon r |\n",
    "\n",
    "Exemple : "
   ]
  },
  {
   "cell_type": "code",
   "execution_count": null,
   "metadata": {},
   "outputs": [],
   "source": [
    "from turtle import *\n",
    "forward(60)\n",
    "left(120)\n",
    "forward(60)\n",
    "right(90)\n",
    "circle(60,300)\n",
    "right(90)\n",
    "forward(60)\n",
    "goto(0,0)"
   ]
  },
  {
   "cell_type": "markdown",
   "metadata": {},
   "source": [
    "**Modification des dessins produits par chacun des déplacements :**  \n",
    "\n",
    "| Instruction | Description |\n",
    "| --- | --- |\n",
    "| up() | relever le crayon (et interrompre le dessin) |\n",
    "| down() | redescendre le crayon (et reprendre le dessin) |\n",
    "| width(e) | fixer à ''e'' l'épaisseur du trait |\n",
    "| color(c) | sélectionner le couleur c pour les traits |\n",
    "| fillcolor(c) | Sélectionner la couleur c pour le remplissage |\n",
    "| begin_fill() | activer le mode remplissage |\n",
    "| end_fill() | désactiver le mode remplissage |\n",
    "\n",
    "Par défaut les tracés sont faits en noir avec une épaisseur d'un pixel.  \n",
    "Les couleurs peuvent être désignées par un nom, sous la forme de chaînes de caractères, avec notamment : \"black\", \"white\", \"grey\", \"pink\", \"purple\", \"blue\", \"green\", \"yellow\", \"orange\", \"red\", \"brown\". On peut également fournir un triplet de nombres compris entre 0 et 1 indiquant les niveaux respectifs de rouge, vert et bleu composant la couleur : rouge → color(1,0,0), gris foncé → color(0.3,0.3,0.3), violet → color(0.5,0,0.6).  \n",
    "Toute l'aire contenue à l'intérieur de la trajectoire de la tortue pendant une période de temps où le mode remplissage est activé prend la couleur choisie pour le remplissage (noir par défaut).  "
   ]
  },
  {
   "cell_type": "code",
   "execution_count": null,
   "metadata": {},
   "outputs": [],
   "source": [
    "from turtle import *\n",
    "# rectangle épais\n",
    "width(6)\n",
    "color(0.2, 0.2, 0.2)\n",
    "goto(60,0)\n",
    "goto(60,110)\n",
    "goto(0,110)\n",
    "goto(0,0)\n",
    "# Déplacement\n",
    "up()\n",
    "goto(5,5)\n",
    "down()\n",
    "# Sablier gris clair\n",
    "width(1)\n",
    "fillcolor(\"grey\")\n",
    "begin_fill()\n",
    "goto(55,5)\n",
    "goto(5,105)\n",
    "goto(55,105)\n",
    "goto(5,5)\n",
    "end_fill()"
   ]
  },
  {
   "cell_type": "markdown",
   "metadata": {},
   "source": [
    "**Action de la bibliothèque Turtle en général :**  \n",
    "\n",
    "| Instruction |  Description |\n",
    "| --- | --- |\n",
    "| reset() | Tout effacer et recommencer à zéro |\n",
    "| speed(s) | définir la vitesse de déplacement de la tortue |\n",
    "| title(t) | donner le titre t à la fenêtre de dessin |\n",
    " ht() | ne montre plus la tortue (seulement le dessin) |\n",
    "\n",
    "\n",
    "![Exercice](../Icones/exercice.png)  \n",
    "1. Reproduire avec turtle les dessins suivants :   \n",
    "![Exemple de dessin a reproduire](../Images/01_ex_reproduit.png)  "
   ]
  },
  {
   "cell_type": "code",
   "execution_count": null,
   "metadata": {},
   "outputs": [],
   "source": []
  },
  {
   "cell_type": "markdown",
   "metadata": {},
   "source": [
    "2. Que trace le programme Turtle suivant ?  \n",
    "```python\n",
    "goto(20,0)\n",
    "goto(0,20)\n",
    "goto(20,20)\n",
    "goto(0,0)\n",
    "goto(0,20)\n",
    "goto(10,30)\n",
    "goto(20,20)\n",
    "goto(20,0)\n",
    "```\n",
    "\n",
    "3. Que trace le programme Turtle suivant ?  \n",
    "```python\n",
    "from turtle import *\n",
    "fillcolor(\"pink\")\n",
    "begin_fill()\n",
    "goto(100,100)\n",
    "goto(50,0)\n",
    "goto(-50,100)\n",
    "goto(0,0)\n",
    "end_fill()\n",
    "```\n",
    "\n",
    "4. Reproduire les dessins suivant (utiliser les remplissages) ?  \n",
    "![Exemple de dessin a reproduire](../Images/01_ex_reproduit2.png)  \n",
    "\n",
    "5. Reproduire les dessins suivant (utiliser la largueur de trait) ?  \n",
    "![Exemple de dessin a reproduire](../Images/01_ex_reproduit3.png)  \n"
   ]
  }
 ],
 "metadata": {
  "kernelspec": {
   "display_name": "Python 3.10.7 64-bit",
   "language": "python",
   "name": "python3"
  },
  "language_info": {
   "codemirror_mode": {
    "name": "ipython",
    "version": 3
   },
   "file_extension": ".py",
   "mimetype": "text/x-python",
   "name": "python",
   "nbconvert_exporter": "python",
   "pygments_lexer": "ipython3",
   "version": "3.10.7"
  },
  "orig_nbformat": 4,
  "vscode": {
   "interpreter": {
    "hash": "b629c3126b5df0b3c19ac5f524890cb3a3a2e86c1a2f2c4b1c29287aa73e65d0"
   }
  }
 },
 "nbformat": 4,
 "nbformat_minor": 2
}
